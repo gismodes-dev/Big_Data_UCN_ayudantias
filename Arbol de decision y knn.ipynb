{
  "nbformat": 4,
  "nbformat_minor": 0,
  "metadata": {
    "colab": {
      "name": "DT_KNN.ipynb",
      "provenance": [],
      "collapsed_sections": [],
      "include_colab_link": true
    },
    "kernelspec": {
      "display_name": "Python 3",
      "language": "python",
      "name": "python3"
    },
    "language_info": {
      "codemirror_mode": {
        "name": "ipython",
        "version": 3
      },
      "file_extension": ".py",
      "mimetype": "text/x-python",
      "name": "python",
      "nbconvert_exporter": "python",
      "pygments_lexer": "ipython3",
      "version": "3.8.5"
    }
  },
  "cells": [
    {
      "cell_type": "markdown",
      "metadata": {
        "id": "view-in-github",
        "colab_type": "text"
      },
      "source": [
        "<a href=\"https://colab.research.google.com/github/guilleib227/Big-Data-Colab-UCN-/blob/main/Arbol%20de%20decision%20y%20knn.ipynb\" target=\"_parent\"><img src=\"https://colab.research.google.com/assets/colab-badge.svg\" alt=\"Open In Colab\"/></a>"
      ]
    },
    {
      "cell_type": "markdown",
      "metadata": {
        "collapsed": true,
        "id": "u4bZDd2hGpox"
      },
      "source": [
        "# Taller Recuperativo - K-NN, Árbol de decisión"
      ]
    },
    {
      "cell_type": "markdown",
      "metadata": {
        "id": "-yXxfnUKGpox"
      },
      "source": [
        "<h1 style=\"color:red;\">Note: Si usted cierra este archivo en cualquier momento, usted debe correr todas las celdas otra vez cada vez que lo vuelve a abrir.</h1>\n",
        "\n",
        "<h1 style=\"color:red;\">Note: Cada vez que usted vuelve a ejecutar el notebook obtendrá diferentes resultados. Esto es de esperarse, solo reporte cualquiera de los resultados que usted obtenga.</h1>"
      ]
    },
    {
      "cell_type": "markdown",
      "metadata": {
        "id": "bgvqvdP6Gpoy"
      },
      "source": [
        "# Versión Principiante de PYTHON"
      ]
    },
    {
      "cell_type": "markdown",
      "metadata": {
        "id": "ZuC-PjAtGpoy"
      },
      "source": [
        "Como es una versión para principiantes, hemos incluido mucho del código que le ayudará al análisis. \n",
        "\n",
        "**Primer, llene la identificación en el cuadro abajo. Entonces, usted solo debe tipear las respuestas a las preguntas realizadas a usted. Para el resto de las celdas, sólo \"RUN\" cada una de ellas presionando el botón de \"RUN\" que se encuentra en la parte superior del notebook.**"
      ]
    },
    {
      "cell_type": "markdown",
      "metadata": {
        "id": "zaC68pUeGpoy"
      },
      "source": [
        "# Información de identificación"
      ]
    },
    {
      "cell_type": "code",
      "metadata": {
        "id": "cbg5LnaQGpoy"
      },
      "source": [
        "# Su nombre = \n",
        "# Su apellido = \n",
        "# su email  = "
      ],
      "execution_count": null,
      "outputs": []
    },
    {
      "cell_type": "markdown",
      "metadata": {
        "id": "t-yKNgz3Gpoy"
      },
      "source": [
        "# Setup"
      ]
    },
    {
      "cell_type": "markdown",
      "metadata": {
        "id": "R8OMTjKKGpoy"
      },
      "source": [
        "Si usted obtiene un mensaje en rojo, es un error, revise si ha ejecutado todo cuidadosamente. Si es en amarillo es solo una advertencia, no es un error."
      ]
    },
    {
      "cell_type": "markdown",
      "metadata": {
        "id": "q_FrEPbPGpoy"
      },
      "source": [
        "# Importación"
      ]
    },
    {
      "cell_type": "markdown",
      "metadata": {
        "id": "FvOhL_QRGpoy"
      },
      "source": [
        "Importe las herramientas dentro del notebook."
      ]
    },
    {
      "cell_type": "code",
      "metadata": {
        "id": "ogNq2LtfGpoz"
      },
      "source": [
        "import numpy as np\n",
        "import pandas as pd\n",
        "import seaborn as sb\n",
        "import matplotlib.pyplot as plt\n",
        "%matplotlib inline\n",
        "plt.rcParams['figure.figsize'] = (16, 9)\n",
        "plt.style.use('ggplot')\n",
        "\n",
        "#bibliotecas importadas para ejecutar un árbol de decisión\n",
        "# Imports necesarios \n",
        "from sklearn import tree\n",
        "from sklearn.metrics import accuracy_score\n",
        "from sklearn.model_selection import KFold\n",
        "from sklearn.model_selection import cross_val_score\n",
        "from IPython.display import Image as PImage\n",
        "from subprocess import check_call\n",
        "from PIL import Image, ImageDraw, ImageFont\n",
        "\n",
        "#bibliotecas importadas para ejecutar un K-Nearest Neibord\n",
        "from sklearn.model_selection import train_test_split\n",
        "from sklearn.preprocessing import MinMaxScaler\n",
        "from sklearn.neighbors import KNeighborsClassifier\n",
        "from sklearn.metrics import classification_report\n",
        "from sklearn.metrics import confusion_matrix"
      ],
      "execution_count": null,
      "outputs": []
    },
    {
      "cell_type": "markdown",
      "metadata": {
        "id": "0pn5mOYSGpoz"
      },
      "source": [
        "# Datos"
      ]
    },
    {
      "cell_type": "markdown",
      "metadata": {
        "id": "lk2ccC9mGpoz"
      },
      "source": [
        "Aqui debe cargar el archivo de datos que se le ha proporcionado CSV. Todos los archivos han sido probados previamente y se cargan de manera correcta. Ingrese el nombre del archivo que va ha procesar, recuerde que el archivo debe estar en la misma carpeta donde tiene el archivo a ejecutar. Para más información sobre los datos visitar http://datos.ambiente.gob.ar/lt/dataset/incendios-forestales "
      ]
    },
    {
      "cell_type": "code",
      "metadata": {
        "colab": {
          "base_uri": "https://localhost:8080/",
          "height": 259
        },
        "id": "u-og196LGpoz",
        "outputId": "58c8971b-140f-431a-c2eb-009fb5aace94"
      },
      "source": [
        "data = pd.read_csv(r\"wheat_seed.csv\",sep=\";\") # archivo a procesar\n",
        "print('\\n\\nDatos cargados correctamente !')\n",
        "data.head()\n"
      ],
      "execution_count": null,
      "outputs": [
        {
          "output_type": "stream",
          "name": "stdout",
          "text": [
            "\n",
            "\n",
            "Datos cargados correctamente !\n"
          ]
        },
        {
          "output_type": "execute_result",
          "data": {
            "text/plain": [
              "   Area  Perimeter  Compactness  Length of kernel  Width of kernel  \\\n",
              "0  1526       1484          871              5763             3312   \n",
              "1  1488       1457         8811              5554             3333   \n",
              "2  1429       1409          905              5291             3337   \n",
              "3  1384       1394         8955              5324             3379   \n",
              "4  1614       1499         9034              5658             3562   \n",
              "\n",
              "   Asymmetry coefficient  Length of kernel groove  target  \n",
              "0                   2221                      522       1  \n",
              "1                   1018                     4956       1  \n",
              "2                   2699                     4825       1  \n",
              "3                   2259                     4805       1  \n",
              "4                   1355                     5175       1  "
            ],
            "text/html": [
              "\n",
              "  <div id=\"df-59ba7d48-f037-46c9-b63e-254f03737c59\">\n",
              "    <div class=\"colab-df-container\">\n",
              "      <div>\n",
              "<style scoped>\n",
              "    .dataframe tbody tr th:only-of-type {\n",
              "        vertical-align: middle;\n",
              "    }\n",
              "\n",
              "    .dataframe tbody tr th {\n",
              "        vertical-align: top;\n",
              "    }\n",
              "\n",
              "    .dataframe thead th {\n",
              "        text-align: right;\n",
              "    }\n",
              "</style>\n",
              "<table border=\"1\" class=\"dataframe\">\n",
              "  <thead>\n",
              "    <tr style=\"text-align: right;\">\n",
              "      <th></th>\n",
              "      <th>Area</th>\n",
              "      <th>Perimeter</th>\n",
              "      <th>Compactness</th>\n",
              "      <th>Length of kernel</th>\n",
              "      <th>Width of kernel</th>\n",
              "      <th>Asymmetry coefficient</th>\n",
              "      <th>Length of kernel groove</th>\n",
              "      <th>target</th>\n",
              "    </tr>\n",
              "  </thead>\n",
              "  <tbody>\n",
              "    <tr>\n",
              "      <th>0</th>\n",
              "      <td>1526</td>\n",
              "      <td>1484</td>\n",
              "      <td>871</td>\n",
              "      <td>5763</td>\n",
              "      <td>3312</td>\n",
              "      <td>2221</td>\n",
              "      <td>522</td>\n",
              "      <td>1</td>\n",
              "    </tr>\n",
              "    <tr>\n",
              "      <th>1</th>\n",
              "      <td>1488</td>\n",
              "      <td>1457</td>\n",
              "      <td>8811</td>\n",
              "      <td>5554</td>\n",
              "      <td>3333</td>\n",
              "      <td>1018</td>\n",
              "      <td>4956</td>\n",
              "      <td>1</td>\n",
              "    </tr>\n",
              "    <tr>\n",
              "      <th>2</th>\n",
              "      <td>1429</td>\n",
              "      <td>1409</td>\n",
              "      <td>905</td>\n",
              "      <td>5291</td>\n",
              "      <td>3337</td>\n",
              "      <td>2699</td>\n",
              "      <td>4825</td>\n",
              "      <td>1</td>\n",
              "    </tr>\n",
              "    <tr>\n",
              "      <th>3</th>\n",
              "      <td>1384</td>\n",
              "      <td>1394</td>\n",
              "      <td>8955</td>\n",
              "      <td>5324</td>\n",
              "      <td>3379</td>\n",
              "      <td>2259</td>\n",
              "      <td>4805</td>\n",
              "      <td>1</td>\n",
              "    </tr>\n",
              "    <tr>\n",
              "      <th>4</th>\n",
              "      <td>1614</td>\n",
              "      <td>1499</td>\n",
              "      <td>9034</td>\n",
              "      <td>5658</td>\n",
              "      <td>3562</td>\n",
              "      <td>1355</td>\n",
              "      <td>5175</td>\n",
              "      <td>1</td>\n",
              "    </tr>\n",
              "  </tbody>\n",
              "</table>\n",
              "</div>\n",
              "      <button class=\"colab-df-convert\" onclick=\"convertToInteractive('df-59ba7d48-f037-46c9-b63e-254f03737c59')\"\n",
              "              title=\"Convert this dataframe to an interactive table.\"\n",
              "              style=\"display:none;\">\n",
              "        \n",
              "  <svg xmlns=\"http://www.w3.org/2000/svg\" height=\"24px\"viewBox=\"0 0 24 24\"\n",
              "       width=\"24px\">\n",
              "    <path d=\"M0 0h24v24H0V0z\" fill=\"none\"/>\n",
              "    <path d=\"M18.56 5.44l.94 2.06.94-2.06 2.06-.94-2.06-.94-.94-2.06-.94 2.06-2.06.94zm-11 1L8.5 8.5l.94-2.06 2.06-.94-2.06-.94L8.5 2.5l-.94 2.06-2.06.94zm10 10l.94 2.06.94-2.06 2.06-.94-2.06-.94-.94-2.06-.94 2.06-2.06.94z\"/><path d=\"M17.41 7.96l-1.37-1.37c-.4-.4-.92-.59-1.43-.59-.52 0-1.04.2-1.43.59L10.3 9.45l-7.72 7.72c-.78.78-.78 2.05 0 2.83L4 21.41c.39.39.9.59 1.41.59.51 0 1.02-.2 1.41-.59l7.78-7.78 2.81-2.81c.8-.78.8-2.07 0-2.86zM5.41 20L4 18.59l7.72-7.72 1.47 1.35L5.41 20z\"/>\n",
              "  </svg>\n",
              "      </button>\n",
              "      \n",
              "  <style>\n",
              "    .colab-df-container {\n",
              "      display:flex;\n",
              "      flex-wrap:wrap;\n",
              "      gap: 12px;\n",
              "    }\n",
              "\n",
              "    .colab-df-convert {\n",
              "      background-color: #E8F0FE;\n",
              "      border: none;\n",
              "      border-radius: 50%;\n",
              "      cursor: pointer;\n",
              "      display: none;\n",
              "      fill: #1967D2;\n",
              "      height: 32px;\n",
              "      padding: 0 0 0 0;\n",
              "      width: 32px;\n",
              "    }\n",
              "\n",
              "    .colab-df-convert:hover {\n",
              "      background-color: #E2EBFA;\n",
              "      box-shadow: 0px 1px 2px rgba(60, 64, 67, 0.3), 0px 1px 3px 1px rgba(60, 64, 67, 0.15);\n",
              "      fill: #174EA6;\n",
              "    }\n",
              "\n",
              "    [theme=dark] .colab-df-convert {\n",
              "      background-color: #3B4455;\n",
              "      fill: #D2E3FC;\n",
              "    }\n",
              "\n",
              "    [theme=dark] .colab-df-convert:hover {\n",
              "      background-color: #434B5C;\n",
              "      box-shadow: 0px 1px 3px 1px rgba(0, 0, 0, 0.15);\n",
              "      filter: drop-shadow(0px 1px 2px rgba(0, 0, 0, 0.3));\n",
              "      fill: #FFFFFF;\n",
              "    }\n",
              "  </style>\n",
              "\n",
              "      <script>\n",
              "        const buttonEl =\n",
              "          document.querySelector('#df-59ba7d48-f037-46c9-b63e-254f03737c59 button.colab-df-convert');\n",
              "        buttonEl.style.display =\n",
              "          google.colab.kernel.accessAllowed ? 'block' : 'none';\n",
              "\n",
              "        async function convertToInteractive(key) {\n",
              "          const element = document.querySelector('#df-59ba7d48-f037-46c9-b63e-254f03737c59');\n",
              "          const dataTable =\n",
              "            await google.colab.kernel.invokeFunction('convertToInteractive',\n",
              "                                                     [key], {});\n",
              "          if (!dataTable) return;\n",
              "\n",
              "          const docLinkHtml = 'Like what you see? Visit the ' +\n",
              "            '<a target=\"_blank\" href=https://colab.research.google.com/notebooks/data_table.ipynb>data table notebook</a>'\n",
              "            + ' to learn more about interactive tables.';\n",
              "          element.innerHTML = '';\n",
              "          dataTable['output_type'] = 'display_data';\n",
              "          await google.colab.output.renderOutput(dataTable, element);\n",
              "          const docLink = document.createElement('div');\n",
              "          docLink.innerHTML = docLinkHtml;\n",
              "          element.appendChild(docLink);\n",
              "        }\n",
              "      </script>\n",
              "    </div>\n",
              "  </div>\n",
              "  "
            ]
          },
          "metadata": {},
          "execution_count": 12
        }
      ]
    },
    {
      "cell_type": "markdown",
      "metadata": {
        "id": "Drx4CCepGpoz"
      },
      "source": [
        "Nosotros queremos saber como lucen los datos. Por lo que crearemos un histograma con los datos que estamos procesando en el conjunto de datos. "
      ]
    },
    {
      "cell_type": "code",
      "metadata": {
        "colab": {
          "base_uri": "https://localhost:8080/",
          "height": 335
        },
        "id": "LZiuIN6NGpoz",
        "scrolled": false,
        "outputId": "97b05f58-d47e-4dd2-915a-c3297208ee73"
      },
      "source": [
        "data.hist()\n",
        "plt.show()\n",
        "print('\\n\\nHistogram generation successful!')"
      ],
      "execution_count": null,
      "outputs": [
        {
          "output_type": "display_data",
          "data": {
            "text/plain": [
              "<Figure size 432x288 with 9 Axes>"
            ],
            "image/png": "[encoded data removed]"
          },
          "metadata": {
            "needs_background": "light"
          }
        },
        {
          "output_type": "stream",
          "name": "stdout",
          "text": [
            "\n",
            "\n",
            "Histogram generation successful!\n"
          ]
        }
      ]
    },
    {
      "cell_type": "markdown",
      "metadata": {
        "id": "i6JZLXvBGpoz"
      },
      "source": [
        "<h1 style=\"color:red;\">PREGUNTA 1: ANÁLISIS DE DATOS</h1>"
      ]
    },
    {
      "cell_type": "markdown",
      "metadata": {
        "id": "zvwRA3zSGpoz"
      },
      "source": [
        "**Describa el conjunto de datos. Comó usted describe la distribución de los datos? Cuantos datos diferentes puede visualizar en el conjunto de datos? El histograma debe ser visible en el cuaderno de trabajo (notebook).**"
      ]
    },
    {
      "cell_type": "markdown",
      "metadata": {
        "id": "hYXM0L43Gpoz"
      },
      "source": [
        "se puede apreciar distintos puntos de incendios, es un distribucion uniforme en cada grafico.son 6 datos que tienen variacion de 5 a 4 por rango, tambien mediante la tabla se puede ver que en el año 1997 hubo mas incendios intencionales, natural y desconocida y en el año 1996 hubo una mayor  negligencia en los incendios."
      ]
    },
    {
      "cell_type": "code",
      "metadata": {
        "colab": {
          "base_uri": "https://localhost:8080/",
          "height": 226
        },
        "id": "lKsJ5r-vgTRj",
        "outputId": "edf7a6bb-56c2-4786-ffec-020ed415ed49"
      },
      "source": [
        "def sede_a(s):\n",
        "    if s==\"Cowuimbo\":\n",
        "        return 1\n",
        "    elif s ==\"Masculino\":\n",
        "        return 2\n",
        "    else:\n",
        "        return 3\n",
        "data['SEDE_O'].as_category()\n",
        "\n",
        "data['SEDE_O']=data.apply(lambda x: sede_a(x['SEDE_O']), axis=1);\n",
        "data.head()"
      ],
      "execution_count": null,
      "outputs": [
        {
          "output_type": "execute_result",
          "data": {
            "text/html": [
              "<div>\n",
              "<style scoped>\n",
              "    .dataframe tbody tr th:only-of-type {\n",
              "        vertical-align: middle;\n",
              "    }\n",
              "\n",
              "    .dataframe tbody tr th {\n",
              "        vertical-align: top;\n",
              "    }\n",
              "\n",
              "    .dataframe thead th {\n",
              "        text-align: right;\n",
              "    }\n",
              "</style>\n",
              "<table border=\"1\" class=\"dataframe\">\n",
              "  <thead>\n",
              "    <tr style=\"text-align: right;\">\n",
              "      <th></th>\n",
              "      <th>incendio_anio</th>\n",
              "      <th>incendio_total_numero</th>\n",
              "      <th>incendio_negligencia_numero</th>\n",
              "      <th>incendio_intencional_numero</th>\n",
              "      <th>incendio_natural_numero</th>\n",
              "      <th>incendio_desconocida_numero</th>\n",
              "    </tr>\n",
              "  </thead>\n",
              "  <tbody>\n",
              "    <tr>\n",
              "      <th>0</th>\n",
              "      <td>1993</td>\n",
              "      <td>1</td>\n",
              "      <td>0</td>\n",
              "      <td>0</td>\n",
              "      <td>0</td>\n",
              "      <td>0</td>\n",
              "    </tr>\n",
              "    <tr>\n",
              "      <th>1</th>\n",
              "      <td>1994</td>\n",
              "      <td>2</td>\n",
              "      <td>29</td>\n",
              "      <td>0</td>\n",
              "      <td>0</td>\n",
              "      <td>9</td>\n",
              "    </tr>\n",
              "    <tr>\n",
              "      <th>2</th>\n",
              "      <td>1995</td>\n",
              "      <td>1</td>\n",
              "      <td>3</td>\n",
              "      <td>0</td>\n",
              "      <td>0</td>\n",
              "      <td>8</td>\n",
              "    </tr>\n",
              "    <tr>\n",
              "      <th>3</th>\n",
              "      <td>1996</td>\n",
              "      <td>3</td>\n",
              "      <td>57</td>\n",
              "      <td>2</td>\n",
              "      <td>2</td>\n",
              "      <td>1</td>\n",
              "    </tr>\n",
              "    <tr>\n",
              "      <th>4</th>\n",
              "      <td>1997</td>\n",
              "      <td>3</td>\n",
              "      <td>16</td>\n",
              "      <td>80</td>\n",
              "      <td>4</td>\n",
              "      <td>14</td>\n",
              "    </tr>\n",
              "  </tbody>\n",
              "</table>\n",
              "</div>"
            ],
            "text/plain": [
              "   incendio_anio  ...  incendio_desconocida_numero\n",
              "0           1993  ...                            0\n",
              "1           1994  ...                            9\n",
              "2           1995  ...                            8\n",
              "3           1996  ...                            1\n",
              "4           1997  ...                           14\n",
              "\n",
              "[5 rows x 6 columns]"
            ]
          },
          "metadata": {},
          "execution_count": 38
        }
      ]
    },
    {
      "cell_type": "markdown",
      "metadata": {
        "id": "1QRukPEggTRk"
      },
      "source": [
        "<h1 style=\"color:red;\">PREGUNTA 2: Rango de Datos</h1>"
      ]
    },
    {
      "cell_type": "markdown",
      "metadata": {
        "id": "n6ZUT6iwgTRk"
      },
      "source": [
        "**Basados en el código anterior, se selecciona un número de categorías para la variable incendio total. Considera que esas categorías describen la distribución de datos? Sugeriría otra distribución de categorías? Por qué se debe convertir a un número de categorías y no usar los datos de manera numérica?.**"
      ]
    },
    {
      "cell_type": "markdown",
      "metadata": {
        "id": "zhlzXnuKgTRk"
      },
      "source": [
        "si la describen y con el pasar de los años hubieron mas incendios. si, encuentro que esa distribucion de datos numericass es mas facil para el entendimiento de forma general, ya que es mas facil inferir al ver los numeros.las categorias ssegregan la informacion de forma mas ordenada y asi no se porduce un desorden.\n"
      ]
    },
    {
      "cell_type": "code",
      "metadata": {
        "id": "dZ_FNmo9gTRk"
      },
      "source": [
        "# Creamos el modelo\n",
        "y = data['target']\n",
        "x = data.drop(['target'], axis=1).values \n",
        "X_train, X_test, y_train, y_test = train_test_split(x, y, test_size=0.25, random_state=42)"
      ],
      "execution_count": null,
      "outputs": []
    },
    {
      "cell_type": "markdown",
      "metadata": {
        "id": "IegaUC96Gpoz"
      },
      "source": [
        "# Model 1: Árbol de decisión\n",
        "\n"
      ]
    },
    {
      "cell_type": "code",
      "metadata": {
        "colab": {
          "base_uri": "https://localhost:8080/"
        },
        "id": "9Sdmx71JgTRl",
        "outputId": "c13a7148-9fcc-4785-d4b4-f6743e595799"
      },
      "source": [
        "accuracies = list()\n",
        "depth_range = range(1, 6)\n",
        "\n",
        "# Testearemos la profundidad de 1 hasta 5\n",
        "for depth in depth_range:\n",
        "    fold_accuracy = []\n",
        "    tree_model = tree.DecisionTreeClassifier(random_state=0, max_depth= depth)\n",
        "   \n",
        "    model = tree_model.fit(X_train, y_train) \n",
        "    valid_acc = model.score(X_test, y_test) # calculamos la precision con el segmento de validacion\n",
        "    fold_accuracy.append(valid_acc)\n",
        "\n",
        "    avg = sum(fold_accuracy)/len(fold_accuracy)\n",
        "    accuracies.append(avg)\n",
        "    \n",
        "# Mostramos los resultados obtenidos\n",
        "df = pd.DataFrame({\"Max Prof\": depth_range, \"Precision\": accuracies})\n",
        "df = df[[\"Max Prof\", \"Precision\"]]\n",
        "print(df.to_string(index=False))"
      ],
      "execution_count": null,
      "outputs": [
        {
          "output_type": "stream",
          "name": "stdout",
          "text": [
            " Max Prof  Precision\n",
            "        1   0.584906\n",
            "        2   0.830189\n",
            "        3   0.867925\n",
            "        4   0.849057\n",
            "        5   0.886792\n"
          ]
        }
      ]
    },
    {
      "cell_type": "markdown",
      "metadata": {
        "id": "XqQguDRmGpoz"
      },
      "source": [
        "<h1 style=\"color:red;\">PREGUNTA 3: COMPORTAMIENTO DEL MODELO DE ÁRBOL DE DECISIÓN</h1>"
      ]
    },
    {
      "cell_type": "markdown",
      "metadata": {
        "id": "aFKrbLhOGpoz"
      },
      "source": [
        "**Compare los resultados obtenidos del modelo en cuanto a la precisión (Average Accuracy). Cómo es el comportamiento de cada uno de los modelos de acuerdo a su profundidad?. Puede usted intuir cuál modelo proporciona el mejor resultado y el por qué del mismo? Qué tiene que ver con los datos?, podría elegir otro parámetro diferente del sexo para predecir en este modelo? por qué?**"
      ]
    },
    {
      "cell_type": "markdown",
      "metadata": {
        "id": "FJ1C7eH7gTRm"
      },
      "source": [
        "en los ultimos 3 max prof hay un precision que identica ,el max prof 1 es mas precision mas alta en el max. prof 2 es la precision mas baja de los 5. yo creo que los 3 ultimos años serian los mejor resultados ya que mantienen un numero constante de precision."
      ]
    },
    {
      "cell_type": "markdown",
      "metadata": {
        "id": "VLSSHsgLGpoz"
      },
      "source": [
        "  "
      ]
    },
    {
      "cell_type": "markdown",
      "metadata": {
        "id": "0ip3BqOFGpoz"
      },
      "source": [
        "# Model 2: K-NN"
      ]
    },
    {
      "cell_type": "code",
      "metadata": {
        "colab": {
          "base_uri": "https://localhost:8080/"
        },
        "id": "XLgsVmEcGpoz",
        "outputId": "b1962ee4-ad01-4fd4-c840-3d27a485da4b"
      },
      "source": [
        "accuracies = list()\n",
        "nn = range(1, 10)\n",
        "\n",
        "# Testearemos cada vecindad de 1 a 9\n",
        "for n_neighbors in nn:\n",
        "    fold_accuracy = []\n",
        "    knn = KNeighborsClassifier(n_neighbors)\n",
        "    \n",
        "    model = knn.fit(X_train, y_train) \n",
        "    valid_acc = model.score(X_test, y_test) # calculamos la precision con el segmento de validacion\n",
        "    fold_accuracy.append(valid_acc)\n",
        "\n",
        "    avg = sum(fold_accuracy)/len(fold_accuracy)\n",
        "    accuracies.append(avg)\n",
        "    \n",
        "# Mostramos los resultados obtenidos\n",
        "df = pd.DataFrame({\"Vecinos\": nn, \"Precision\": accuracies})\n",
        "df = df[[\"Vecinos\", \"Precision\"]]\n",
        "print(df.to_string(index=False))\n",
        "\n",
        "\n",
        "print('\\n\\nModelo creado satisfactoriamente!')"
      ],
      "execution_count": null,
      "outputs": [
        {
          "output_type": "stream",
          "name": "stdout",
          "text": [
            " Vecinos  Precision\n",
            "       1   0.811321\n",
            "       2   0.735849\n",
            "       3   0.716981\n",
            "       4   0.773585\n",
            "       5   0.811321\n",
            "       6   0.792453\n",
            "       7   0.773585\n",
            "       8   0.735849\n",
            "       9   0.754717\n",
            "\n",
            "\n",
            "Modelo creado satisfactoriamente!\n"
          ]
        }
      ]
    },
    {
      "cell_type": "markdown",
      "metadata": {
        "id": "AnJO1hyaGpo0"
      },
      "source": [
        "<h1 style=\"color:red;\">PREGUNTA 4: COMPORTAMIENTO DEL MODELO K-NN</h1>"
      ]
    },
    {
      "cell_type": "markdown",
      "metadata": {
        "id": "5YmWIGJUGpo0"
      },
      "source": [
        "**Compare los resultados obtenidos del modelo en cuanto a la precisión (Average Accuracy). Cómo es el comportamiento de cada uno de los modelos de acuerdo a la vecindad?. Puede usted intuir cuál modelo proporciona el mejor resultado y el por qué del mismo? Qué tiene que ver con los datos?, podría elegir otro parámetro diferente del sexo para predecir en este modelo? por qué?**"
      ]
    },
    {
      "cell_type": "markdown",
      "metadata": {
        "id": "mvxrgaroGpo0"
      },
      "source": [
        "la precision de la vecindad 1,2 3 es la identica, al igual que en la vecindad 5,6,8,9 que es identica pero menor con respecto a las 3 mencionada anteriormente. yo encuentro que el mejor modelo de K-NN precision serian lso 3 primeros, ya que se mantendria mejor en el tiempo y no habria cambios , mientras que en las demas vecindades es un poco brusco el cambio con mucho alto y bajos."
      ]
    },
    {
      "cell_type": "markdown",
      "metadata": {
        "id": "w8SjRAr5Gpo0"
      },
      "source": [
        "# Comparación de los modelos"
      ]
    },
    {
      "cell_type": "markdown",
      "metadata": {
        "id": "ZchPFKzLGpo0"
      },
      "source": [
        "Seleccione `dep_max` de acuerdo a lo que obtuvieron en la pregunta 2 o el `n_neighbors` de acuerdo a la pregunta 3"
      ]
    },
    {
      "cell_type": "markdown",
      "metadata": {
        "id": "RDywH1ArGpo0"
      },
      "source": [
        "**Primero defina el número y ejecute el modelo del árbol de decisión**"
      ]
    },
    {
      "cell_type": "code",
      "metadata": {
        "id": "36PRtqC6Gpo0"
      },
      "source": [
        "# Creamos el modelo\n",
        "y = data['target']\n",
        "x = data.drop(['target'], axis=1).values \n",
        "X_train, X_test, y_train, y_test = train_test_split(x, y, test_size=0.35, random_state=42)\n"
      ],
      "execution_count": null,
      "outputs": []
    },
    {
      "cell_type": "code",
      "metadata": {
        "colab": {
          "base_uri": "https://localhost:8080/"
        },
        "id": "t0sKcmEwGpo0",
        "outputId": "4cc59e4b-a50f-4d42-9b25-6266575fbf30"
      },
      "source": [
        "# Crear Árbol de decision con la profundidad que eligió como la mejor\n",
        "dep_max=3     #aquí se coloca el número de profundidad que usted eligió\n",
        "decision_tree = tree.DecisionTreeClassifier(random_state=0, max_depth= dep_max)\n",
        "decision_tree.fit(X_train, y_train)"
      ],
      "execution_count": null,
      "outputs": [
        {
          "output_type": "execute_result",
          "data": {
            "text/plain": [
              "DecisionTreeClassifier(max_depth=3, random_state=0)"
            ]
          },
          "metadata": {},
          "execution_count": 19
        }
      ]
    },
    {
      "cell_type": "markdown",
      "metadata": {
        "id": "4iOJQOuiGpo0"
      },
      "source": [
        "**Segundo defina el número de vecinos que usted seleccionó de acuerdo a la pregunta 3 y ejecute el modelo K-NN**"
      ]
    },
    {
      "cell_type": "code",
      "metadata": {
        "colab": {
          "base_uri": "https://localhost:8080/"
        },
        "id": "ZwYNVy8kGpo0",
        "outputId": "0382d56a-d0e8-463b-e1ca-3d416789feec"
      },
      "source": [
        "#Primero coloque el número de vecinos que seleccionó\n",
        "n_neighbors=5    # aquí coloca el número de vecinos de acuerdo a su decisión en la pregunta 3\n",
        "\n",
        "X=X_train\n",
        "y=y_train\n",
        "\n",
        "# we create an instance of Neighbours Classifier and fit the data.\n",
        "clf = KNeighborsClassifier(n_neighbors, weights='distance')\n",
        "clf.fit(X, y)\n",
        "\n"
      ],
      "execution_count": null,
      "outputs": [
        {
          "output_type": "execute_result",
          "data": {
            "text/plain": [
              "KNeighborsClassifier(weights='distance')"
            ]
          },
          "metadata": {},
          "execution_count": 20
        }
      ]
    },
    {
      "cell_type": "code",
      "metadata": {
        "colab": {
          "base_uri": "https://localhost:8080/"
        },
        "id": "BQRUzWRCGpo0",
        "outputId": "51432531-caa2-4f56-ceba-ca558e7d17c5"
      },
      "source": [
        "pred = clf.predict(X_test)\n",
        "print(confusion_matrix(y_test, pred))\n",
        "print(classification_report(y_test, pred))\n",
        "\n"
      ],
      "execution_count": null,
      "outputs": [
        {
          "output_type": "stream",
          "name": "stdout",
          "text": [
            "[[17  2  6]\n",
            " [ 3 19  3]\n",
            " [ 3  1 20]]\n",
            "              precision    recall  f1-score   support\n",
            "\n",
            "           1       0.74      0.68      0.71        25\n",
            "           2       0.86      0.76      0.81        25\n",
            "           3       0.69      0.83      0.75        24\n",
            "\n",
            "    accuracy                           0.76        74\n",
            "   macro avg       0.76      0.76      0.76        74\n",
            "weighted avg       0.77      0.76      0.76        74\n",
            "\n"
          ]
        }
      ]
    },
    {
      "cell_type": "code",
      "metadata": {
        "colab": {
          "base_uri": "https://localhost:8080/"
        },
        "id": "8f-4VbbZGpo0",
        "outputId": "633865c4-8f8e-4a8a-8231-f5f5d21c3b10"
      },
      "source": [
        "pred1 = decision_tree.predict(X_test)\n",
        "print(confusion_matrix(y_test, pred1))\n",
        "print(classification_report(y_test, pred1))"
      ],
      "execution_count": null,
      "outputs": [
        {
          "output_type": "stream",
          "name": "stdout",
          "text": [
            "[[20  3  2]\n",
            " [ 2 23  0]\n",
            " [ 7  0 17]]\n",
            "              precision    recall  f1-score   support\n",
            "\n",
            "           1       0.69      0.80      0.74        25\n",
            "           2       0.88      0.92      0.90        25\n",
            "           3       0.89      0.71      0.79        24\n",
            "\n",
            "    accuracy                           0.81        74\n",
            "   macro avg       0.82      0.81      0.81        74\n",
            "weighted avg       0.82      0.81      0.81        74\n",
            "\n"
          ]
        }
      ]
    },
    {
      "cell_type": "markdown",
      "metadata": {
        "id": "eLAUNWlNGpo0"
      },
      "source": [
        "<h1 style=\"color:red;\">PREGUNTA 5: COMPARACIÓN DE LOS MODELOS</h1>"
      ]
    },
    {
      "cell_type": "markdown",
      "metadata": {
        "id": "RM-wEmKvGpo0"
      },
      "source": [
        "**Usted selecciono un valor para la profundidad del árbol de decisión y la vencidad para K-NN. Cuando usted ejecuto los códigos con los números elegidos. Usted noto algún cambio en la precisión?, Por qué ocurrió esto? Cree usted que el modelo de árbol de decisión funciona mejor o peor que el modelo K-NN? Por qué?, base su respuesta en los resultados obtenidos de la predicción de ambos modelos**"
      ]
    },
    {
      "cell_type": "markdown",
      "metadata": {
        "id": "sRSenKsWGpo0"
      },
      "source": [
        "creo que el mejor modelo seria el K-NN porque presenta mejor precision en los 3 primeros numeros, mientras que el modelo del arbol de precision tambien posee los 3 ultimos numeros identicos pero con menor precision"
      ]
    },
    {
      "cell_type": "markdown",
      "metadata": {
        "id": "JTTJ9BFrGpo0"
      },
      "source": [
        "<hr>"
      ]
    },
    {
      "cell_type": "markdown",
      "metadata": {
        "id": "UviS8zezGpo0"
      },
      "source": [
        "Gran Trabajo! Ahora, Asegurese de hacerlo llegar **apropiadamente**"
      ]
    }
  ]
}